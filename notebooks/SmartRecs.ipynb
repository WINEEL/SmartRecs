{
 "cells": [
  {
   "cell_type": "markdown",
   "id": "4f03c0dd",
   "metadata": {},
   "source": [
    "# SmartRecs"
   ]
  },
  {
   "cell_type": "markdown",
   "id": "a5fe57c7",
   "metadata": {},
   "source": [
    "## Load and Merge IMDb Datasets\n",
    "\n",
    "- We start by loading the `title.basics.tsv` and `title.ratings.tsv` files.\n",
    "- These files contain information about movies and their ratings.\n",
    "- We filter only movies and merge both datasets using the `tconst` identifier."
   ]
  },
  {
   "cell_type": "code",
   "execution_count": null,
   "id": "9bcc298d",
   "metadata": {},
   "outputs": [],
   "source": [
    "# Import necessary libraries\n",
    "import pandas as pd\n",
    "\n",
    "# Load datasets\n",
    "basics = pd.read_csv('../data/title.basics.tsv', sep='\\t', na_values='\\\\N', low_memory=False)\n",
    "ratings = pd.read_csv('../data/title.ratings.tsv', sep='\\t', na_values='\\\\N')\n",
    "\n",
    "# Filter only movies (not shorts, TV shows, etc.)\n",
    "movies = basics[basics['titleType'] == 'movie']\n",
    "\n",
    "# Drop rows with missing essential values\n",
    "movies = movies.dropna(subset=['primaryTitle', 'startYear', 'genres'])\n",
    "\n",
    "# Convert year to integer\n",
    "movies['startYear'] = movies['startYear'].astype(int)\n",
    "\n",
    "# Merge with ratings\n",
    "movies_merged = pd.merge(movies, ratings, on='tconst')\n",
    "\n",
    "# Show a preview\n",
    "movies_merged.head()\n"
   ]
  },
  {
   "cell_type": "markdown",
   "id": "80f57cd1",
   "metadata": {},
   "source": [
    "## Data Preprocessing\n",
    "\n",
    "We clean the dataset by:\n",
    "- Removing movies before 1950\n",
    "- Filtering movies with less than 1000 votes (to keep relevant/popular ones)\n",
    "- Resetting the index for cleaner access"
   ]
  },
  {
   "cell_type": "code",
   "execution_count": null,
   "id": "1460417c",
   "metadata": {},
   "outputs": [],
   "source": [
    "# Filter: Keep movies released from 1950 onwards\n",
    "movies_filtered = movies_merged[movies_merged['startYear'] >= 1950]\n",
    "\n",
    "# Filter: Keep only movies with at least 1000 votes\n",
    "movies_filtered = movies_filtered[movies_filtered['numVotes'] >= 1000]\n",
    "\n",
    "# Reset index\n",
    "movies_filtered = movies_filtered.reset_index(drop=True)\n",
    "\n",
    "# Quick check\n",
    "print(\"Filtered dataset shape:\", movies_filtered.shape)\n",
    "movies_filtered[['primaryTitle', 'startYear', 'genres', 'averageRating', 'numVotes']].head()"
   ]
  },
  {
   "cell_type": "markdown",
   "id": "af14528d",
   "metadata": {},
   "source": [
    "## Exploratory Data Analysis (EDA)\n",
    "\n",
    "Here we explore the dataset with visualizations to understand:\n",
    "- Distribution of movie ratings\n",
    "- Number of votes received\n",
    "- Most common genres"
   ]
  },
  {
   "cell_type": "code",
   "execution_count": null,
   "id": "2a07b82f",
   "metadata": {},
   "outputs": [],
   "source": [
    "import matplotlib.pyplot as plt\n",
    "import seaborn as sns\n",
    "\n",
    "# Set style\n",
    "sns.set(style=\"darkgrid\")\n",
    "\n",
    "# Rating distribution\n",
    "plt.figure(figsize=(8, 5))\n",
    "sns.histplot(movies_filtered['averageRating'], bins=20, kde=True)\n",
    "plt.title('Distribution of Average Ratings')\n",
    "plt.xlabel('Average Rating')\n",
    "plt.ylabel('Number of Movies')\n",
    "plt.show()\n",
    "\n",
    "# Vote count distribution (log scale to reduce skew)\n",
    "plt.figure(figsize=(8, 5))\n",
    "sns.histplot(movies_filtered['numVotes'], bins=30, log_scale=True)\n",
    "plt.title('Distribution of Vote Counts (log scale)')\n",
    "plt.xlabel('Number of Votes')\n",
    "plt.ylabel('Number of Movies')\n",
    "plt.show()\n",
    "\n",
    "# Most common genres\n",
    "from collections import Counter\n",
    "\n",
    "# Flatten genre list\n",
    "genre_list = []\n",
    "for genres in movies_filtered['genres'].dropna():\n",
    "    genre_list.extend(genres.split(','))\n",
    "\n",
    "genre_counts = Counter(genre_list)\n",
    "top_genres = pd.DataFrame(genre_counts.most_common(10), columns=['Genre', 'Count'])\n",
    "\n",
    "plt.figure(figsize=(8, 5))\n",
    "sns.barplot(data=top_genres, x='Genre', y='Count')\n",
    "plt.title('Top 10 Genres')\n",
    "plt.xlabel('Genre')\n",
    "plt.ylabel('Number of Movies')\n",
    "plt.xticks(rotation=45)\n",
    "plt.show()\n"
   ]
  },
  {
   "cell_type": "markdown",
   "id": "09eb92ec",
   "metadata": {},
   "source": [
    "## Model Building - Collaborative Filtering\n",
    "\n",
    "We'll use the `Surprise` library to implement:\n",
    "- User-based CF\n",
    "- Item-based CF\n",
    "- SVD (Matrix Factorization)"
   ]
  },
  {
   "cell_type": "code",
   "execution_count": null,
   "id": "8f011e8e",
   "metadata": {},
   "outputs": [],
   "source": []
  }
 ],
 "metadata": {
  "kernelspec": {
   "display_name": "Python 3",
   "language": "python",
   "name": "python3"
  },
  "language_info": {
   "codemirror_mode": {
    "name": "ipython",
    "version": 3
   },
   "file_extension": ".py",
   "mimetype": "text/x-python",
   "name": "python",
   "nbconvert_exporter": "python",
   "pygments_lexer": "ipython3",
   "version": "3.13.3"
  }
 },
 "nbformat": 4,
 "nbformat_minor": 5
}
